{
 "cells": [
  {
   "cell_type": "markdown",
   "metadata": {},
   "source": [
    "# Deep Q-Learning - Lunar Lander\n",
    "\n",
    "In this assignment, you will train an agent to land a lunar lander safely on a landing pad on the surface of the moon.\n",
    "\n",
    "\n",
    "# Outline\n",
    "- [ 1 - Import Packages <img align=\"Right\" src=\"./images/lunar_lander.gif\" width = 60% >](#1)\n",
    "- [ 2 - Hyperparameters](#2)\n",
    "- [ 3 - The Lunar Lander Environment](#3)\n",
    "  - [ 3.1 Action Space](#3.1)\n",
    "  - [ 3.2 Observation Space](#3.2)\n",
    "  - [ 3.3 Rewards](#3.3)\n",
    "  - [ 3.4 Episode Termination](#3.4)\n",
    "- [ 4 - Load the Environment](#4)\n",
    "- [ 5 - Interacting with the Gym Environment](#5)\n",
    "    - [ 5.1 Exploring the Environment's Dynamics](#5.1)\n",
    "- [ 6 - Deep Q-Learning](#6)\n",
    "  - [ 6.1 Target Network](#6.1)\n",
    "    - [ Exercise 1](#ex01)\n",
    "  - [ 6.2 Experience Replay](#6.2)\n",
    "- [ 7 - Deep Q-Learning Algorithm with Experience Replay](#7)\n",
    "  - [ Exercise 2](#ex02)\n",
    "- [ 8 - Update the Network Weights](#8)\n",
    "- [ 9 - Train the Agent](#9)\n",
    "- [ 10 - See the Trained Agent In Action](#10)\n",
    "- [ 11 - Congratulations!](#11)\n",
    "- [ 12 - References](#12)\n"
   ]
  },
  {
   "cell_type": "markdown",
   "metadata": {},
   "source": [
    "_**NOTE:** To prevent errors from the autograder, you are not allowed to edit or delete non-graded cells in this lab. Please also refrain from adding any new cells. \n",
    "**Once you have passed this assignment** and want to experiment with any of the non-graded code, you may follow the instructions at the bottom of this notebook._"
   ]
  },
  {
   "cell_type": "markdown",
   "metadata": {},
   "source": [
    "<a name=\"1\"></a>\n",
    "## 1 - Import Packages\n",
    "\n",
    "We'll make use of the following packages:\n",
    "- `numpy` is a package for scientific computing in python.\n",
    "- `deque` will be our data structure for our memory buffer.\n",
    "- `namedtuple` will be used to store the experience tuples.\n",
    "- The `gym` toolkit is a collection of environments that can be used to test reinforcement learning algorithms. We should note that in this notebook we are using `gym` version `0.24.0`.\n",
    "- `PIL.Image` and `pyvirtualdisplay` are needed to render the Lunar Lander environment.\n",
    "- We will use several modules from the `tensorflow.keras` framework for building deep learning models.\n",
    "- `utils` is a module that contains helper functions for this assignment. You do not need to modify the code in this file.\n",
    "\n",
    "Run the cell below to import all the necessary packages."
   ]
  },
  {
   "cell_type": "code",
   "execution_count": 32,
   "metadata": {
    "deletable": false,
    "editable": false,
    "id": "KYbOPKRtfQOr"
   },
   "outputs": [],
   "source": [
    "import time\n",
    "from collections import deque, namedtuple\n",
    "\n",
    "import gym\n",
    "import numpy as np\n",
    "import PIL.Image\n",
    "import tensorflow as tf\n",
    "import utils\n",
    "\n",
    "from pyvirtualdisplay import Display\n",
    "from tensorflow.keras import Sequential\n",
    "from tensorflow.keras.layers import Dense, Input\n",
    "from tensorflow.keras.losses import MSE\n",
    "from tensorflow.keras.optimizers import Adam"
   ]
  },
  {
   "cell_type": "code",
   "execution_count": 33,
   "metadata": {
    "deletable": false,
    "editable": false
   },
   "outputs": [],
   "source": [
    "# Set up a virtual display to render the Lunar Lander environment.\n",
    "Display(visible=0, size=(840, 480)).start();\n",
    "\n",
    "# Set the random seed for TensorFlow\n",
    "tf.random.set_seed(utils.SEED)"
   ]
  },
  {
   "cell_type": "markdown",
   "metadata": {},
   "source": [
    "<a name=\"2\"></a>\n",
    "## 2 - Hyperparameters\n",
    "\n",
    "Run the cell below to set the hyperparameters."
   ]
  },
  {
   "cell_type": "code",
   "execution_count": 34,
   "metadata": {
    "deletable": false,
    "editable": false
   },
   "outputs": [],
   "source": [
    "MEMORY_SIZE = 100_000     # size of memory buffer\n",
    "GAMMA = 0.995             # discount factor\n",
    "ALPHA = 1e-3              # learning rate  \n",
    "NUM_STEPS_FOR_UPDATE = 4  # perform a learning update every C time steps"
   ]
  },
  {
   "cell_type": "markdown",
   "metadata": {},
   "source": [
    "<a name=\"3\"></a>\n",
    "## 3 - The Lunar Lander Environment\n",
    "\n",
    "In this notebook we will be using [OpenAI's Gym Library](https://www.gymlibrary.dev/). The Gym library provides a wide variety of environments for reinforcement learning. To put it simply, an environment represents a problem or task to be solved. In this notebook, we will try to solve the Lunar Lander environment using reinforcement learning.\n",
    "\n",
    "The goal of the Lunar Lander environment is to land the lunar lander safely on the landing pad on the surface of the moon. The landing pad is designated by two flag poles and its center is at coordinates `(0,0)` but the lander is also allowed to land outside of the landing pad. The lander starts at the top center of the environment with a random initial force applied to its center of mass and has infinite fuel. The environment is considered solved if you get `200` points. \n",
    "\n",
    "<br>\n",
    "<br>\n",
    "<figure>\n",
    "  <img src = \"images/lunar_lander.gif\" width = 40%>\n",
    "      <figcaption style = \"text-align: center; font-style: italic\">Fig 1. Lunar Lander Environment.</figcaption>\n",
    "</figure>\n",
    "\n",
    "\n",
    "\n",
    "<a name=\"3.1\"></a>\n",
    "### 3.1 Action Space\n",
    "\n",
    "The agent has four discrete actions available:\n",
    "\n",
    "* Do nothing.\n",
    "* Fire right engine.\n",
    "* Fire main engine.\n",
    "* Fire left engine.\n",
    "\n",
    "Each action has a corresponding numerical value:\n",
    "\n",
    "```python\n",
    "Do nothing = 0\n",
    "Fire right engine = 1\n",
    "Fire main engine = 2\n",
    "Fire left engine = 3\n",
    "```\n",
    "\n",
    "<a name=\"3.2\"></a>\n",
    "### 3.2 Observation Space\n",
    "\n",
    "The agent's observation space consists of a state vector with 8 variables:\n",
    "\n",
    "* Its $(x,y)$ coordinates. The landing pad is always at coordinates $(0,0)$.\n",
    "* Its linear velocities $(\\dot x,\\dot y)$.\n",
    "* Its angle $\\theta$.\n",
    "* Its angular velocity $\\dot \\theta$.\n",
    "* Two booleans, $l$ and $r$, that represent whether each leg is in contact with the ground or not.\n",
    "\n",
    "<a name=\"3.3\"></a>\n",
    "### 3.3 Rewards\n",
    "\n",
    "After every step, a reward is granted. The total reward of an episode is the sum of the rewards for all the steps within that episode.\n",
    "\n",
    "For each step, the reward:\n",
    "- is increased/decreased the closer/further the lander is to the landing pad.\n",
    "- is increased/decreased the slower/faster the lander is moving.\n",
    "- is decreased the more the lander is tilted (angle not horizontal).\n",
    "- is increased by 10 points for each leg that is in contact with the ground.\n",
    "- is decreased by 0.03 points each frame a side engine is firing.\n",
    "- is decreased by 0.3 points each frame the main engine is firing.\n",
    "\n",
    "The episode receives an additional reward of -100 or +100 points for crashing or landing safely respectively.\n",
    "\n",
    "<a name=\"3.4\"></a>\n",
    "### 3.4 Episode Termination\n",
    "\n",
    "An episode ends (i.e the environment enters a terminal state) if:\n",
    "\n",
    "* The lunar lander crashes (i.e if the body of the lunar lander comes in contact with the surface of the moon).\n",
    "\n",
    "* The absolute value of the lander's $x$-coordinate is greater than 1 (i.e. it goes beyond the left or right border)\n",
    "\n",
    "You can check out the [Open AI Gym documentation](https://www.gymlibrary.dev/environments/box2d/lunar_lander/) for a full description of the environment. "
   ]
  },
  {
   "cell_type": "markdown",
   "metadata": {},
   "source": [
    "<a name=\"4\"></a>\n",
    "## 4 - Load the Environment\n",
    "\n",
    "We start by loading the `LunarLander-v2` environment from the `gym` library by using the `.make()` method. `LunarLander-v2` is the latest version of the Lunar Lander environment and you can read about its version history in the [Open AI Gym documentation](https://www.gymlibrary.dev/environments/box2d/lunar_lander/#version-history)."
   ]
  },
  {
   "cell_type": "code",
   "execution_count": 35,
   "metadata": {
    "deletable": false,
    "editable": false,
    "id": "ILVMYKewfR0n"
   },
   "outputs": [],
   "source": [
    "env = gym.make('LunarLander-v2')"
   ]
  },
  {
   "cell_type": "markdown",
   "metadata": {},
   "source": [
    "Once we load the environment we use the `.reset()` method to reset the environment to the initial state. The lander starts at the top center of the environment and we can render the first frame of the environment by using the `.render()` method."
   ]
  },
  {
   "cell_type": "code",
   "execution_count": 36,
   "metadata": {
    "deletable": false,
    "editable": false
   },
   "outputs": [
    {
     "data": {
      "image/png": "[encoded data removed]",
      "text/plain": [
       "<PIL.Image.Image image mode=RGB size=600x400 at 0x7FE9715D3FD0>"
      ]
     },
     "execution_count": 36,
     "metadata": {},
     "output_type": "execute_result"
    }
   ],
   "source": [
    "env.reset()\n",
    "PIL.Image.fromarray(env.render(mode='rgb_array'))"
   ]
  },
  {
   "cell_type": "markdown",
   "metadata": {},
   "source": [
    "In order to build our neural network later on we need to know the size of the state vector and the number of valid actions. We can get this information from our environment by using the `.observation_space.shape` and `action_space.n` methods, respectively."
   ]
  },
  {
   "cell_type": "code",
   "execution_count": 37,
   "metadata": {
    "deletable": false,
    "editable": false,
    "id": "x3fdqdG4CUu2"
   },
   "outputs": [
    {
     "name": "stdout",
     "output_type": "stream",
     "text": [
      "State Shape: (8,)\n",
      "Number of actions: 4\n"
     ]
    }
   ],
   "source": [
    "state_size = env.observation_space.shape\n",
    "num_actions = env.action_space.n\n",
    "\n",
    "print('State Shape:', state_size)\n",
    "print('Number of actions:', num_actions)"
   ]
  },
  {
   "cell_type": "markdown",
   "metadata": {},
   "source": [
    "<a name=\"5\"></a>\n",
    "## 5 - Interacting with the Gym Environment\n",
    "\n",
    "The Gym library implements the standard “agent-environment loop” formalism:\n",
    "\n",
    "<br>\n",
    "<center>\n",
    "<video src = \"./videos/rl_formalism.m4v\" width=\"840\" height=\"480\" controls autoplay loop poster=\"./images/rl_formalism.png\"> </video>\n",
    "<figcaption style = \"text-align:center; font-style:italic\">Fig 2. Agent-environment Loop Formalism.</figcaption>\n",
    "</center>\n",
    "<br>\n",
    "\n",
    "In the standard “agent-environment loop” formalism, an agent interacts with the environment in discrete time steps $t=0,1,2,...$. At each time step $t$, the agent uses a policy $\\pi$ to select an action $A_t$ based on its observation of the environment's state $S_t$. The agent receives a numerical reward $R_t$ and on the next time step, moves to a new state $S_{t+1}$.\n",
    "\n",
    "<a name=\"5.1\"></a>\n",
    "### 5.1 Exploring the Environment's Dynamics\n",
    "\n",
    "In Open AI's Gym environments, we use the `.step()` method to run a single time step of the environment's dynamics. In the version of `gym` that we are using the `.step()` method accepts an action and returns four values:\n",
    "\n",
    "* `observation` (**object**): an environment-specific object representing your observation of the environment. In the Lunar Lander environment this corresponds to a numpy array containing the positions and velocities of the lander as described in section [3.2 Observation Space](#3.2).\n",
    "\n",
    "\n",
    "* `reward` (**float**): amount of reward returned as a result of taking the given action. In the Lunar Lander environment this corresponds to a float of type `numpy.float64` as described in section [3.3 Rewards](#3.3).\n",
    "\n",
    "\n",
    "* `done` (**boolean**): When done is `True`, it indicates the episode has terminated and it’s time to reset the environment. \n",
    "\n",
    "\n",
    "* `info` (**dictionary**): diagnostic information useful for debugging. We won't be using this variable in this notebook but it is shown here for completeness.\n",
    "\n",
    "To begin an episode, we need to reset the environment to an initial state. We do this by using the `.reset()` method. "
   ]
  },
  {
   "cell_type": "code",
   "execution_count": 38,
   "metadata": {
    "deletable": false,
    "editable": false
   },
   "outputs": [],
   "source": [
    "# Reset the environment and get the initial state.\n",
    "current_state = env.reset()"
   ]
  },
  {
   "cell_type": "markdown",
   "metadata": {},
   "source": [
    "Once the environment is reset, the agent can start taking actions in the environment by using the `.step()` method. Note that the agent can only take one action per time step. \n",
    "\n",
    "In the cell below you can select different actions and see how the returned values change depending on the action taken. Remember that in this environment the agent has four discrete actions available and we specify them in code by using their corresponding numerical value:\n",
    "\n",
    "```python\n",
    "Do nothing = 0\n",
    "Fire right engine = 1\n",
    "Fire main engine = 2\n",
    "Fire left engine = 3\n",
    "```"
   ]
  },
  {
   "cell_type": "code",
   "execution_count": 39,
   "metadata": {
    "deletable": false
   },
   "outputs": [
    {
     "data": {
      "text/html": [
       "<style  type=\"text/css\" >\n",
       "    #T_fb30bb4e_2e33_11ee_a2d3_0242ac1200c0 th {\n",
       "          border: 1px solid grey;\n",
       "          text-align: center;\n",
       "    }    #T_fb30bb4e_2e33_11ee_a2d3_0242ac1200c0 tbody td {\n",
       "          border: 1px solid grey;\n",
       "          text-align: center;\n",
       "    }    #T_fb30bb4e_2e33_11ee_a2d3_0242ac1200c0row0_col0 {\n",
       "            background-color :  grey;\n",
       "        }    #T_fb30bb4e_2e33_11ee_a2d3_0242ac1200c0row1_col1 {\n",
       "            background-color :  grey;\n",
       "        }    #T_fb30bb4e_2e33_11ee_a2d3_0242ac1200c0row1_col2 {\n",
       "            background-color :  grey;\n",
       "        }    #T_fb30bb4e_2e33_11ee_a2d3_0242ac1200c0row1_col3 {\n",
       "            background-color :  grey;\n",
       "        }    #T_fb30bb4e_2e33_11ee_a2d3_0242ac1200c0row1_col4 {\n",
       "            background-color :  grey;\n",
       "        }    #T_fb30bb4e_2e33_11ee_a2d3_0242ac1200c0row1_col5 {\n",
       "            background-color :  grey;\n",
       "        }    #T_fb30bb4e_2e33_11ee_a2d3_0242ac1200c0row1_col6 {\n",
       "            background-color :  grey;\n",
       "        }    #T_fb30bb4e_2e33_11ee_a2d3_0242ac1200c0row1_col7 {\n",
       "            background-color :  grey;\n",
       "        }    #T_fb30bb4e_2e33_11ee_a2d3_0242ac1200c0row1_col8 {\n",
       "            background-color :  grey;\n",
       "        }    #T_fb30bb4e_2e33_11ee_a2d3_0242ac1200c0row1_col9 {\n",
       "            background-color :  grey;\n",
       "        }    #T_fb30bb4e_2e33_11ee_a2d3_0242ac1200c0row1_col10 {\n",
       "            background-color :  grey;\n",
       "        }    #T_fb30bb4e_2e33_11ee_a2d3_0242ac1200c0row1_col11 {\n",
       "            background-color :  grey;\n",
       "        }    #T_fb30bb4e_2e33_11ee_a2d3_0242ac1200c0row2_col0 {\n",
       "            background-color :  grey;\n",
       "        }    #T_fb30bb4e_2e33_11ee_a2d3_0242ac1200c0row3_col1 {\n",
       "            background-color :  grey;\n",
       "        }    #T_fb30bb4e_2e33_11ee_a2d3_0242ac1200c0row3_col2 {\n",
       "            background-color :  grey;\n",
       "        }    #T_fb30bb4e_2e33_11ee_a2d3_0242ac1200c0row3_col3 {\n",
       "            background-color :  grey;\n",
       "        }    #T_fb30bb4e_2e33_11ee_a2d3_0242ac1200c0row3_col4 {\n",
       "            background-color :  grey;\n",
       "        }    #T_fb30bb4e_2e33_11ee_a2d3_0242ac1200c0row3_col5 {\n",
       "            background-color :  grey;\n",
       "        }    #T_fb30bb4e_2e33_11ee_a2d3_0242ac1200c0row3_col6 {\n",
       "            background-color :  grey;\n",
       "        }    #T_fb30bb4e_2e33_11ee_a2d3_0242ac1200c0row3_col7 {\n",
       "            background-color :  grey;\n",
       "        }    #T_fb30bb4e_2e33_11ee_a2d3_0242ac1200c0row3_col8 {\n",
       "            background-color :  grey;\n",
       "        }    #T_fb30bb4e_2e33_11ee_a2d3_0242ac1200c0row3_col9 {\n",
       "            background-color :  grey;\n",
       "        }    #T_fb30bb4e_2e33_11ee_a2d3_0242ac1200c0row3_col10 {\n",
       "            background-color :  grey;\n",
       "        }    #T_fb30bb4e_2e33_11ee_a2d3_0242ac1200c0row3_col11 {\n",
       "            background-color :  grey;\n",
       "        }    #T_fb30bb4e_2e33_11ee_a2d3_0242ac1200c0row4_col1 {\n",
       "            background-color :  grey;\n",
       "        }    #T_fb30bb4e_2e33_11ee_a2d3_0242ac1200c0row4_col2 {\n",
       "            background-color :  grey;\n",
       "        }    #T_fb30bb4e_2e33_11ee_a2d3_0242ac1200c0row4_col3 {\n",
       "            background-color :  grey;\n",
       "        }    #T_fb30bb4e_2e33_11ee_a2d3_0242ac1200c0row4_col4 {\n",
       "            background-color :  grey;\n",
       "        }    #T_fb30bb4e_2e33_11ee_a2d3_0242ac1200c0row4_col5 {\n",
       "            background-color :  grey;\n",
       "        }    #T_fb30bb4e_2e33_11ee_a2d3_0242ac1200c0row4_col6 {\n",
       "            background-color :  grey;\n",
       "        }    #T_fb30bb4e_2e33_11ee_a2d3_0242ac1200c0row4_col7 {\n",
       "            background-color :  grey;\n",
       "        }    #T_fb30bb4e_2e33_11ee_a2d3_0242ac1200c0row4_col8 {\n",
       "            background-color :  grey;\n",
       "        }    #T_fb30bb4e_2e33_11ee_a2d3_0242ac1200c0row4_col9 {\n",
       "            background-color :  grey;\n",
       "        }    #T_fb30bb4e_2e33_11ee_a2d3_0242ac1200c0row4_col10 {\n",
       "            background-color :  grey;\n",
       "        }    #T_fb30bb4e_2e33_11ee_a2d3_0242ac1200c0row4_col11 {\n",
       "            background-color :  grey;\n",
       "        }</style><table id=\"T_fb30bb4e_2e33_11ee_a2d3_0242ac1200c0\" ><thead>    <tr>        <th class=\"blank level0\" ></th>        <th class=\"col_heading level0 col0\" ></th>        <th class=\"col_heading level0 col1\" colspan=8>State Vector</th>        <th class=\"col_heading level0 col9\" colspan=3>Derived from the State Vector (the closer to zero, the better)</th>    </tr>    <tr>        <th class=\"blank level1\" ></th>        <th class=\"col_heading level1 col0\" ></th>        <th class=\"col_heading level1 col1\" colspan=2>Coordinate</th>        <th class=\"col_heading level1 col3\" colspan=2>Velocity</th>        <th class=\"col_heading level1 col5\" colspan=2>Tilting</th>        <th class=\"col_heading level1 col7\" colspan=2>Ground contact</th>        <th class=\"col_heading level1 col9\" >Distance from landing pad</th>        <th class=\"col_heading level1 col10\" >Velocity</th>        <th class=\"col_heading level1 col11\" >Tilting Angle (absolute value)</th>    </tr>    <tr>        <th class=\"blank level2\" ></th>        <th class=\"col_heading level2 col0\" ></th>        <th class=\"col_heading level2 col1\" >X (Horizontal)</th>        <th class=\"col_heading level2 col2\" >Y (Vertical)</th>        <th class=\"col_heading level2 col3\" >X (Horizontal)</th>        <th class=\"col_heading level2 col4\" >Y (Vertical)</th>        <th class=\"col_heading level2 col5\" >Angle</th>        <th class=\"col_heading level2 col6\" >Angular Velocity</th>        <th class=\"col_heading level2 col7\" >Left Leg?</th>        <th class=\"col_heading level2 col8\" >Right Leg?</th>        <th class=\"col_heading level2 col9\" ></th>        <th class=\"col_heading level2 col10\" ></th>        <th class=\"col_heading level2 col11\" ></th>    </tr></thead><tbody>\n",
       "                <tr>\n",
       "                        <th id=\"T_fb30bb4e_2e33_11ee_a2d3_0242ac1200c0level0_row0\" class=\"row_heading level0 row0\" >Current State</th>\n",
       "                        <td id=\"T_fb30bb4e_2e33_11ee_a2d3_0242ac1200c0row0_col0\" class=\"data row0 col0\" ></td>\n",
       "                        <td id=\"T_fb30bb4e_2e33_11ee_a2d3_0242ac1200c0row0_col1\" class=\"data row0 col1\" >0.001919</td>\n",
       "                        <td id=\"T_fb30bb4e_2e33_11ee_a2d3_0242ac1200c0row0_col2\" class=\"data row0 col2\" >1.422301</td>\n",
       "                        <td id=\"T_fb30bb4e_2e33_11ee_a2d3_0242ac1200c0row0_col3\" class=\"data row0 col3\" >0.194400</td>\n",
       "                        <td id=\"T_fb30bb4e_2e33_11ee_a2d3_0242ac1200c0row0_col4\" class=\"data row0 col4\" >0.505814</td>\n",
       "                        <td id=\"T_fb30bb4e_2e33_11ee_a2d3_0242ac1200c0row0_col5\" class=\"data row0 col5\" >-0.002217</td>\n",
       "                        <td id=\"T_fb30bb4e_2e33_11ee_a2d3_0242ac1200c0row0_col6\" class=\"data row0 col6\" >-0.044034</td>\n",
       "                        <td id=\"T_fb30bb4e_2e33_11ee_a2d3_0242ac1200c0row0_col7\" class=\"data row0 col7\" >False</td>\n",
       "                        <td id=\"T_fb30bb4e_2e33_11ee_a2d3_0242ac1200c0row0_col8\" class=\"data row0 col8\" >False</td>\n",
       "                        <td id=\"T_fb30bb4e_2e33_11ee_a2d3_0242ac1200c0row0_col9\" class=\"data row0 col9\" >1.422302</td>\n",
       "                        <td id=\"T_fb30bb4e_2e33_11ee_a2d3_0242ac1200c0row0_col10\" class=\"data row0 col10\" >0.541885</td>\n",
       "                        <td id=\"T_fb30bb4e_2e33_11ee_a2d3_0242ac1200c0row0_col11\" class=\"data row0 col11\" >0.002217</td>\n",
       "            </tr>\n",
       "            <tr>\n",
       "                        <th id=\"T_fb30bb4e_2e33_11ee_a2d3_0242ac1200c0level0_row1\" class=\"row_heading level0 row1\" >Action</th>\n",
       "                        <td id=\"T_fb30bb4e_2e33_11ee_a2d3_0242ac1200c0row1_col0\" class=\"data row1 col0\" >Fire main engine</td>\n",
       "                        <td id=\"T_fb30bb4e_2e33_11ee_a2d3_0242ac1200c0row1_col1\" class=\"data row1 col1\" ></td>\n",
       "                        <td id=\"T_fb30bb4e_2e33_11ee_a2d3_0242ac1200c0row1_col2\" class=\"data row1 col2\" ></td>\n",
       "                        <td id=\"T_fb30bb4e_2e33_11ee_a2d3_0242ac1200c0row1_col3\" class=\"data row1 col3\" ></td>\n",
       "                        <td id=\"T_fb30bb4e_2e33_11ee_a2d3_0242ac1200c0row1_col4\" class=\"data row1 col4\" ></td>\n",
       "                        <td id=\"T_fb30bb4e_2e33_11ee_a2d3_0242ac1200c0row1_col5\" class=\"data row1 col5\" ></td>\n",
       "                        <td id=\"T_fb30bb4e_2e33_11ee_a2d3_0242ac1200c0row1_col6\" class=\"data row1 col6\" ></td>\n",
       "                        <td id=\"T_fb30bb4e_2e33_11ee_a2d3_0242ac1200c0row1_col7\" class=\"data row1 col7\" ></td>\n",
       "                        <td id=\"T_fb30bb4e_2e33_11ee_a2d3_0242ac1200c0row1_col8\" class=\"data row1 col8\" ></td>\n",
       "                        <td id=\"T_fb30bb4e_2e33_11ee_a2d3_0242ac1200c0row1_col9\" class=\"data row1 col9\" ></td>\n",
       "                        <td id=\"T_fb30bb4e_2e33_11ee_a2d3_0242ac1200c0row1_col10\" class=\"data row1 col10\" ></td>\n",
       "                        <td id=\"T_fb30bb4e_2e33_11ee_a2d3_0242ac1200c0row1_col11\" class=\"data row1 col11\" ></td>\n",
       "            </tr>\n",
       "            <tr>\n",
       "                        <th id=\"T_fb30bb4e_2e33_11ee_a2d3_0242ac1200c0level0_row2\" class=\"row_heading level0 row2\" >Next State</th>\n",
       "                        <td id=\"T_fb30bb4e_2e33_11ee_a2d3_0242ac1200c0row2_col0\" class=\"data row2 col0\" ></td>\n",
       "                        <td id=\"T_fb30bb4e_2e33_11ee_a2d3_0242ac1200c0row2_col1\" class=\"data row2 col1\" >0.003840</td>\n",
       "                        <td id=\"T_fb30bb4e_2e33_11ee_a2d3_0242ac1200c0row2_col2\" class=\"data row2 col2\" >1.434422</td>\n",
       "                        <td id=\"T_fb30bb4e_2e33_11ee_a2d3_0242ac1200c0row2_col3\" class=\"data row2 col3\" >0.194242</td>\n",
       "                        <td id=\"T_fb30bb4e_2e33_11ee_a2d3_0242ac1200c0row2_col4\" class=\"data row2 col4\" >0.538716</td>\n",
       "                        <td id=\"T_fb30bb4e_2e33_11ee_a2d3_0242ac1200c0row2_col5\" class=\"data row2 col5\" >-0.004397</td>\n",
       "                        <td id=\"T_fb30bb4e_2e33_11ee_a2d3_0242ac1200c0row2_col6\" class=\"data row2 col6\" >-0.043606</td>\n",
       "                        <td id=\"T_fb30bb4e_2e33_11ee_a2d3_0242ac1200c0row2_col7\" class=\"data row2 col7\" >False</td>\n",
       "                        <td id=\"T_fb30bb4e_2e33_11ee_a2d3_0242ac1200c0row2_col8\" class=\"data row2 col8\" >False</td>\n",
       "                        <td id=\"T_fb30bb4e_2e33_11ee_a2d3_0242ac1200c0row2_col9\" class=\"data row2 col9\" >1.434427</td>\n",
       "                        <td id=\"T_fb30bb4e_2e33_11ee_a2d3_0242ac1200c0row2_col10\" class=\"data row2 col10\" >0.572665</td>\n",
       "                        <td id=\"T_fb30bb4e_2e33_11ee_a2d3_0242ac1200c0row2_col11\" class=\"data row2 col11\" >0.004397</td>\n",
       "            </tr>\n",
       "            <tr>\n",
       "                        <th id=\"T_fb30bb4e_2e33_11ee_a2d3_0242ac1200c0level0_row3\" class=\"row_heading level0 row3\" >Reward</th>\n",
       "                        <td id=\"T_fb30bb4e_2e33_11ee_a2d3_0242ac1200c0row3_col0\" class=\"data row3 col0\" >-4.808495</td>\n",
       "                        <td id=\"T_fb30bb4e_2e33_11ee_a2d3_0242ac1200c0row3_col1\" class=\"data row3 col1\" ></td>\n",
       "                        <td id=\"T_fb30bb4e_2e33_11ee_a2d3_0242ac1200c0row3_col2\" class=\"data row3 col2\" ></td>\n",
       "                        <td id=\"T_fb30bb4e_2e33_11ee_a2d3_0242ac1200c0row3_col3\" class=\"data row3 col3\" ></td>\n",
       "                        <td id=\"T_fb30bb4e_2e33_11ee_a2d3_0242ac1200c0row3_col4\" class=\"data row3 col4\" ></td>\n",
       "                        <td id=\"T_fb30bb4e_2e33_11ee_a2d3_0242ac1200c0row3_col5\" class=\"data row3 col5\" ></td>\n",
       "                        <td id=\"T_fb30bb4e_2e33_11ee_a2d3_0242ac1200c0row3_col6\" class=\"data row3 col6\" ></td>\n",
       "                        <td id=\"T_fb30bb4e_2e33_11ee_a2d3_0242ac1200c0row3_col7\" class=\"data row3 col7\" ></td>\n",
       "                        <td id=\"T_fb30bb4e_2e33_11ee_a2d3_0242ac1200c0row3_col8\" class=\"data row3 col8\" ></td>\n",
       "                        <td id=\"T_fb30bb4e_2e33_11ee_a2d3_0242ac1200c0row3_col9\" class=\"data row3 col9\" ></td>\n",
       "                        <td id=\"T_fb30bb4e_2e33_11ee_a2d3_0242ac1200c0row3_col10\" class=\"data row3 col10\" ></td>\n",
       "                        <td id=\"T_fb30bb4e_2e33_11ee_a2d3_0242ac1200c0row3_col11\" class=\"data row3 col11\" ></td>\n",
       "            </tr>\n",
       "            <tr>\n",
       "                        <th id=\"T_fb30bb4e_2e33_11ee_a2d3_0242ac1200c0level0_row4\" class=\"row_heading level0 row4\" >Episode Terminated</th>\n",
       "                        <td id=\"T_fb30bb4e_2e33_11ee_a2d3_0242ac1200c0row4_col0\" class=\"data row4 col0\" >False</td>\n",
       "                        <td id=\"T_fb30bb4e_2e33_11ee_a2d3_0242ac1200c0row4_col1\" class=\"data row4 col1\" ></td>\n",
       "                        <td id=\"T_fb30bb4e_2e33_11ee_a2d3_0242ac1200c0row4_col2\" class=\"data row4 col2\" ></td>\n",
       "                        <td id=\"T_fb30bb4e_2e33_11ee_a2d3_0242ac1200c0row4_col3\" class=\"data row4 col3\" ></td>\n",
       "                        <td id=\"T_fb30bb4e_2e33_11ee_a2d3_0242ac1200c0row4_col4\" class=\"data row4 col4\" ></td>\n",
       "                        <td id=\"T_fb30bb4e_2e33_11ee_a2d3_0242ac1200c0row4_col5\" class=\"data row4 col5\" ></td>\n",
       "                        <td id=\"T_fb30bb4e_2e33_11ee_a2d3_0242ac1200c0row4_col6\" class=\"data row4 col6\" ></td>\n",
       "                        <td id=\"T_fb30bb4e_2e33_11ee_a2d3_0242ac1200c0row4_col7\" class=\"data row4 col7\" ></td>\n",
       "                        <td id=\"T_fb30bb4e_2e33_11ee_a2d3_0242ac1200c0row4_col8\" class=\"data row4 col8\" ></td>\n",
       "                        <td id=\"T_fb30bb4e_2e33_11ee_a2d3_0242ac1200c0row4_col9\" class=\"data row4 col9\" ></td>\n",
       "                        <td id=\"T_fb30bb4e_2e33_11ee_a2d3_0242ac1200c0row4_col10\" class=\"data row4 col10\" ></td>\n",
       "                        <td id=\"T_fb30bb4e_2e33_11ee_a2d3_0242ac1200c0row4_col11\" class=\"data row4 col11\" ></td>\n",
       "            </tr>\n",
       "    </tbody></table>"
      ],
      "text/plain": [
       "<pandas.io.formats.style.Styler at 0x7fe9715064d0>"
      ]
     },
     "metadata": {},
     "output_type": "display_data"
    }
   ],
   "source": [
    "# Select an action\n",
    "action = 2\n",
    "\n",
    "# Run a single time step of the environment's dynamics with the given action.\n",
    "next_state, reward, done, _ = env.step(action)\n",
    "\n",
    "# Display table with values.\n",
    "utils.display_table(current_state, action, next_state, reward, done)\n",
    "\n",
    "# Replace the `current_state` with the state after the action is taken\n",
    "current_state = next_state"
   ]
  },
  {
   "cell_type": "markdown",
   "metadata": {},
   "source": [
    "In practice, when we train the agent we use a loop to allow the agent to take many consecutive actions during an episode."
   ]
  },
  {
   "cell_type": "markdown",
   "metadata": {},
   "source": [
    "<a name=\"6\"></a>\n",
    "## 6 - Deep Q-Learning\n",
    "\n",
    "In cases where both the state and action space are discrete we can estimate the action-value function iteratively by using the Bellman equation:\n",
    "\n",
    "$$\n",
    "Q_{i+1}(s,a) = R + \\gamma \\max_{a'}Q_i(s',a')\n",
    "$$\n",
    "\n",
    "This iterative method converges to the optimal action-value function $Q^*(s,a)$ as $i\\to\\infty$. This means that the agent just needs to gradually explore the state-action space and keep updating the estimate of $Q(s,a)$ until it converges to the optimal action-value function $Q^*(s,a)$. However, in cases where the state space is continuous it becomes practically impossible to explore the entire state-action space. Consequently, this also makes it practically impossible to gradually estimate $Q(s,a)$ until it converges to $Q^*(s,a)$.\n",
    "\n",
    "In the Deep $Q$-Learning, we solve this problem by using a neural network to estimate the action-value function $Q(s,a)\\approx Q^*(s,a)$. We call this neural network a $Q$-Network and it can be trained by adjusting its weights at each iteration to minimize the mean-squared error in the Bellman equation.\n",
    "\n",
    "Unfortunately, using neural networks in reinforcement learning to estimate action-value functions has proven to be highly unstable. Luckily, there's a couple of techniques that can be employed to avoid instabilities. These techniques consist of using a ***Target Network*** and ***Experience Replay***. We will explore these two techniques in the following sections."
   ]
  },
  {
   "cell_type": "markdown",
   "metadata": {},
   "source": [
    "<a name=\"6.1\"></a>\n",
    "### 6.1 Target Network\n",
    "\n",
    "We can train the $Q$-Network by adjusting it's weights at each iteration to minimize the mean-squared error in the Bellman equation, where the target values are given by:\n",
    "\n",
    "$$\n",
    "y = R + \\gamma \\max_{a'}Q(s',a';w)\n",
    "$$\n",
    "\n",
    "where $w$ are the weights of the $Q$-Network. This means that we are adjusting the weights $w$ at each iteration to minimize the following error:\n",
    "\n",
    "$$\n",
    "\\overbrace{\\underbrace{R + \\gamma \\max_{a'}Q(s',a'; w)}_{\\rm {y~target}} - Q(s,a;w)}^{\\rm {Error}}\n",
    "$$\n",
    "\n",
    "Notice that this forms a problem because the $y$ target is changing on every iteration. Having a constantly moving target can lead to oscillations and instabilities. To avoid this, we can create\n",
    "a separate neural network for generating the $y$ targets. We call this separate neural network the **target $\\hat Q$-Network** and it will have the same architecture as the original $Q$-Network. By using the target $\\hat Q$-Network, the above error becomes:\n",
    "\n",
    "$$\n",
    "\\overbrace{\\underbrace{R + \\gamma \\max_{a'}\\hat{Q}(s',a'; w^-)}_{\\rm {y~target}} - Q(s,a;w)}^{\\rm {Error}}\n",
    "$$\n",
    "\n",
    "where $w^-$ and $w$ are the weights of the target $\\hat Q$-Network and $Q$-Network, respectively.\n",
    "\n",
    "In practice, we will use the following algorithm: every $C$ time steps we will use the $\\hat Q$-Network to generate the $y$ targets and update the weights of the target $\\hat Q$-Network using the weights of the $Q$-Network. We will update the weights $w^-$ of the the target $\\hat Q$-Network using a **soft update**. This means that we will update the weights $w^-$ using the following rule:\n",
    " \n",
    "$$\n",
    "w^-\\leftarrow \\tau w + (1 - \\tau) w^-\n",
    "$$\n",
    "\n",
    "where $\\tau\\ll 1$. By using the soft update, we are ensuring that the target values, $y$, change slowly, which greatly improves the stability of our learning algorithm."
   ]
  },
  {
   "cell_type": "markdown",
   "metadata": {},
   "source": [
    "<a name=\"ex01\"></a>\n",
    "### Exercise 1\n",
    "\n",
    "In this exercise you will create the $Q$ and target $\\hat Q$ networks and set the optimizer. Remember that the Deep $Q$-Network (DQN) is a neural network that approximates the action-value function $Q(s,a)\\approx Q^*(s,a)$. It does this by learning how to map states to $Q$ values.\n",
    "\n",
    "To solve the Lunar Lander environment, we are going to employ a DQN with the following architecture:\n",
    "\n",
    "* An `Input` layer that takes `state_size` as input.\n",
    "\n",
    "* A `Dense` layer with `64` units and a `relu` activation function.\n",
    "\n",
    "* A `Dense` layer with `64` units and a `relu` activation function.\n",
    "\n",
    "* A `Dense` layer with `num_actions` units and a `linear` activation function. This will be the output layer of our network.\n",
    "\n",
    "\n",
    "In the cell below you should create the $Q$-Network and the target $\\hat Q$-Network using the model architecture described above. Remember that both the $Q$-Network and the target $\\hat Q$-Network have the same architecture.\n",
    "\n",
    "Lastly, you should set `Adam` as the optimizer with a learning rate equal to `ALPHA`. Recall that `ALPHA` was defined in the [Hyperparameters](#2) section. We should note that for this exercise you should use the already imported packages:\n",
    "```python\n",
    "from tensorflow.keras.layers import Dense, Input\n",
    "from tensorflow.keras.optimizers import Adam\n",
    "```"
   ]
  },
  {
   "cell_type": "code",
   "execution_count": 40,
   "metadata": {
    "deletable": false
   },
   "outputs": [],
   "source": [
    "# UNQ_C1\n",
    "# GRADED CELL\n",
    "\n",
    "# Create the Q-Network\n",
    "q_network = Sequential([\n",
    "    ### START CODE HERE ### \n",
    "    tf.keras.layers.Input(state_size),\n",
    "    tf.keras.layers.Dense(64,activation = 'relu'),\n",
    "    tf.keras.layers.Dense(64,activation = 'relu'),\n",
    "    tf.keras.layers.Dense(num_actions,activation = 'linear')\n",
    "    ### END CODE HERE ### \n",
    "    ])\n",
    "\n",
    "# Create the target Q^-Network\n",
    "target_q_network = Sequential([\n",
    "    ### START CODE HERE ### \n",
    "    tf.keras.layers.Input(state_size),\n",
    "    tf.keras.layers.Dense(64,activation = 'relu'),\n",
    "    tf.keras.layers.Dense(64,activation = 'relu'),\n",
    "    tf.keras.layers.Dense(num_actions,activation = 'linear')\n",
    "    ### END CODE HERE ###\n",
    "    ])\n",
    "\n",
    "### START CODE HERE ### \n",
    "optimizer = tf.keras.optimizers.Adam(0.001)\n",
    "### END CODE HERE ###"
   ]
  },
  {
   "cell_type": "code",
   "execution_count": 41,
   "metadata": {
    "deletable": false,
    "editable": false
   },
   "outputs": [
    {
     "name": "stdout",
     "output_type": "stream",
     "text": [
      "\u001b[92mAll tests passed!\n",
      "\u001b[92mAll tests passed!\n",
      "\u001b[92mAll tests passed!\n"
     ]
    }
   ],
   "source": [
    "# UNIT TEST\n",
    "from public_tests import *\n",
    "\n",
    "test_network(q_network)\n",
    "test_network(target_q_network)\n",
    "test_optimizer(optimizer, ALPHA) "
   ]
  },
  {
   "cell_type": "markdown",
   "metadata": {},
   "source": [
    "<details>\n",
    "  <summary><font size=\"3\" color=\"darkgreen\"><b>Click for hints</b></font></summary>\n",
    "    \n",
    "```python\n",
    "# Create the Q-Network\n",
    "q_network = Sequential([\n",
    "    Input(shape=state_size),                      \n",
    "    Dense(units=64, activation='relu'),            \n",
    "    Dense(units=64, activation='relu'),            \n",
    "    Dense(units=num_actions, activation='linear'),\n",
    "    ])\n",
    "\n",
    "# Create the target Q^-Network\n",
    "target_q_network = Sequential([\n",
    "    Input(shape=state_size),                       \n",
    "    Dense(units=64, activation='relu'),            \n",
    "    Dense(units=64, activation='relu'),            \n",
    "    Dense(units=num_actions, activation='linear'), \n",
    "    ])\n",
    "\n",
    "optimizer = Adam(learning_rate=ALPHA)                                  \n",
    "``` "
   ]
  },
  {
   "cell_type": "markdown",
   "metadata": {},
   "source": [
    "<a name=\"6.2\"></a>\n",
    "### 6.2 Experience Replay\n",
    "\n",
    "When an agent interacts with the environment, the states, actions, and rewards the agent experiences are sequential by nature. If the agent tries to learn from these consecutive experiences it can run into problems due to the strong correlations between them. To avoid this, we employ a technique known as **Experience Replay** to generate uncorrelated experiences for training our agent. Experience replay consists of storing the agent's experiences (i.e the states, actions, and rewards the agent receives) in a memory buffer and then sampling a random mini-batch of experiences from the buffer to do the learning. The experience tuples $(S_t, A_t, R_t, S_{t+1})$ will be added to the memory buffer at each time step as the agent interacts with the environment.\n",
    "\n",
    "For convenience, we will store the experiences as named tuples."
   ]
  },
  {
   "cell_type": "code",
   "execution_count": 42,
   "metadata": {
    "deletable": false,
    "editable": false
   },
   "outputs": [],
   "source": [
    "# Store experiences as named tuples\n",
    "experience = namedtuple(\"Experience\", field_names=[\"state\", \"action\", \"reward\", \"next_state\", \"done\"])"
   ]
  },
  {
   "cell_type": "markdown",
   "metadata": {},
   "source": [
    "By using experience replay we avoid problematic correlations, oscillations and instabilities. In addition, experience replay also allows the agent to potentially use the same experience in multiple weight updates, which increases data efficiency."
   ]
  },
  {
   "cell_type": "markdown",
   "metadata": {},
   "source": [
    "<a name=\"7\"></a>\n",
    "## 7 - Deep Q-Learning Algorithm with Experience Replay\n",
    "\n",
    "Now that we know all the techniques that we are going to use, we can put them together to arrive at the Deep Q-Learning Algorithm With Experience Replay.\n",
    "<br>\n",
    "<br>\n",
    "<figure>\n",
    "  <img src = \"images/deep_q_algorithm.png\" width = 90% style = \"border: thin silver solid; padding: 0px\">\n",
    "      <figcaption style = \"text-align: center; font-style: italic\">Fig 3. Deep Q-Learning with Experience Replay.</figcaption>\n",
    "</figure>"
   ]
  },
  {
   "cell_type": "markdown",
   "metadata": {},
   "source": [
    "<a name=\"ex02\"></a>\n",
    "### Exercise 2\n",
    "\n",
    "In this exercise you will implement line ***12*** of the algorithm outlined in *Fig 3* above and you will also compute the loss between the $y$ targets and the $Q(s,a)$ values. In the cell below, complete the `compute_loss` function by setting the $y$ targets equal to:\n",
    "\n",
    "$$\n",
    "\\begin{equation}\n",
    "    y_j =\n",
    "    \\begin{cases}\n",
    "      R_j & \\text{if episode terminates at step  } j+1\\\\\n",
    "      R_j + \\gamma \\max_{a'}\\hat{Q}(s_{j+1},a') & \\text{otherwise}\\\\\n",
    "    \\end{cases}       \n",
    "\\end{equation}\n",
    "$$\n",
    "\n",
    "Here are a couple of things to note:\n",
    "\n",
    "* The `compute_loss` function takes in a mini-batch of experience tuples. This mini-batch of experience tuples is unpacked to extract the `states`, `actions`, `rewards`, `next_states`, and `done_vals`. You should keep in mind that these variables are *TensorFlow Tensors* whose size will depend on the mini-batch size. For example, if the mini-batch size is `64` then both `rewards` and `done_vals` will be TensorFlow Tensors with `64` elements.\n",
    "\n",
    "\n",
    "* Using `if/else` statements to set the $y$ targets will not work when the variables are tensors with many elements. However, notice that you can use the `done_vals` to implement the above in a single line of code. To do this, recall that the `done` variable is a Boolean variable that takes the value `True` when an episode terminates at step $j+1$ and it is `False` otherwise. Taking into account that a Boolean value of `True` has the numerical value of `1` and a Boolean value of `False` has the numerical value of `0`, you can use the factor `(1 - done_vals)` to implement the above in a single line of code. Here's a hint: notice that `(1 - done_vals)` has a value of `0` when `done_vals` is `True` and a value of `1` when `done_vals` is `False`. \n",
    "\n",
    "Lastly, compute the loss by calculating the Mean-Squared Error (`MSE`) between the `y_targets` and the `q_values`. To calculate the mean-squared error you should use the already imported package `MSE`:\n",
    "```python\n",
    "from tensorflow.keras.losses import MSE\n",
    "```"
   ]
  },
  {
   "cell_type": "code",
   "execution_count": 43,
   "metadata": {
    "deletable": false
   },
   "outputs": [],
   "source": [
    "# UNQ_C2\n",
    "# GRADED FUNCTION: calculate_loss\n",
    "\n",
    "def compute_loss(experiences, gamma, q_network, target_q_network):\n",
    "    \"\"\" \n",
    "    Calculates the loss.\n",
    "    \n",
    "    Args:\n",
    "      experiences: (tuple) tuple of [\"state\", \"action\", \"reward\", \"next_state\", \"done\"] namedtuples\n",
    "      gamma: (float) The discount factor.\n",
    "      q_network: (tf.keras.Sequential) Keras model for predicting the q_values\n",
    "      target_q_network: (tf.keras.Sequential) Keras model for predicting the targets\n",
    "          \n",
    "    Returns:\n",
    "      loss: (TensorFlow Tensor(shape=(0,), dtype=int32)) the Mean-Squared Error between\n",
    "            the y targets and the Q(s,a) values.\n",
    "    \"\"\"\n",
    "\n",
    "    # Unpack the mini-batch of experience tuples\n",
    "    states, actions, rewards, next_states, done_vals = experiences\n",
    "    \n",
    "    # Compute max Q^(s,a)\n",
    "    max_qsa = tf.reduce_max(target_q_network(next_states), axis=-1)\n",
    "    \n",
    "    # Set y = R if episode terminates, otherwise set y = R + γ max Q^(s,a).\n",
    "    ### START CODE HERE ### \n",
    "    y_targets = rewards + (gamma * max_qsa * (1 - done_vals))\n",
    "    ### END CODE HERE ###\n",
    "    \n",
    "    # Get the q_values and reshape to match y_targets\n",
    "    q_values = q_network(states)\n",
    "    q_values = tf.gather_nd(q_values, tf.stack([tf.range(q_values.shape[0]),\n",
    "                                                tf.cast(actions, tf.int32)], axis=1))\n",
    "        \n",
    "    # Compute the loss\n",
    "    ### START CODE HERE ### \n",
    "    loss = MSE(y_targets, q_values)\n",
    "    ### END CODE HERE ### \n",
    "    \n",
    "    return loss"
   ]
  },
  {
   "cell_type": "code",
   "execution_count": 44,
   "metadata": {
    "deletable": false,
    "editable": false
   },
   "outputs": [
    {
     "name": "stdout",
     "output_type": "stream",
     "text": [
      "\u001b[92mAll tests passed!\n"
     ]
    }
   ],
   "source": [
    "# UNIT TEST    \n",
    "test_compute_loss(compute_loss)"
   ]
  },
  {
   "cell_type": "markdown",
   "metadata": {},
   "source": [
    "<details>\n",
    "  <summary><font size=\"3\" color=\"darkgreen\"><b>Click for hints</b></font></summary>\n",
    "    \n",
    "```python\n",
    "def compute_loss(experiences, gamma, q_network, target_q_network):\n",
    "    \"\"\" \n",
    "    Calculates the loss.\n",
    "    \n",
    "    Args:\n",
    "      experiences: (tuple) tuple of [\"state\", \"action\", \"reward\", \"next_state\", \"done\"] namedtuples\n",
    "      gamma: (float) The discount factor.\n",
    "      q_network: (tf.keras.Sequential) Keras model for predicting the q_values\n",
    "      target_q_network: (tf.keras.Sequential) Keras model for predicting the targets\n",
    "          \n",
    "    Returns:\n",
    "      loss: (TensorFlow Tensor(shape=(0,), dtype=int32)) the Mean-Squared Error between\n",
    "            the y targets and the Q(s,a) values.\n",
    "    \"\"\"\n",
    "\n",
    "    \n",
    "    # Unpack the mini-batch of experience tuples\n",
    "    states, actions, rewards, next_states, done_vals = experiences\n",
    "    \n",
    "    # Compute max Q^(s,a)\n",
    "    max_qsa = tf.reduce_max(target_q_network(next_states), axis=-1)\n",
    "    \n",
    "    # Set y = R if episode terminates, otherwise set y = R + γ max Q^(s,a).\n",
    "    y_targets = rewards + (gamma * max_qsa * (1 - done_vals))\n",
    "    \n",
    "    # Get the q_values\n",
    "    q_values = q_network(states)\n",
    "    q_values = tf.gather_nd(q_values, tf.stack([tf.range(q_values.shape[0]),\n",
    "                                                tf.cast(actions, tf.int32)], axis=1))\n",
    "    \n",
    "    # Calculate the loss\n",
    "    loss = MSE(y_targets, q_values)\n",
    "    \n",
    "    return loss\n",
    "\n",
    "``` \n",
    "    "
   ]
  },
  {
   "cell_type": "markdown",
   "metadata": {},
   "source": [
    "<a name=\"8\"></a>\n",
    "## 8 - Update the Network Weights\n",
    "\n",
    "We will use the `agent_learn` function below to implement lines ***12 -14*** of the algorithm outlined in [Fig 3](#7). The `agent_learn` function will update the weights of the $Q$ and target $\\hat Q$ networks using a custom training loop. Because we are using a custom training loop we need to retrieve the gradients via a `tf.GradientTape` instance, and then call `optimizer.apply_gradients()` to update the weights of our $Q$-Network. Note that we are also using the `@tf.function` decorator to increase performance. Without this decorator our training will take twice as long. If you would like to know more about how to increase performance with `@tf.function` take a look at the [TensorFlow documentation](https://www.tensorflow.org/guide/function).\n",
    "\n",
    "The last line of this function updates the weights of the target $\\hat Q$-Network using a [soft update](#6.1). If you want to know how this is implemented in code we encourage you to take a look at the `utils.update_target_network` function in the `utils` module."
   ]
  },
  {
   "cell_type": "code",
   "execution_count": 45,
   "metadata": {
    "deletable": false,
    "editable": false
   },
   "outputs": [],
   "source": [
    "@tf.function\n",
    "def agent_learn(experiences, gamma):\n",
    "    \"\"\"\n",
    "    Updates the weights of the Q networks.\n",
    "    \n",
    "    Args:\n",
    "      experiences: (tuple) tuple of [\"state\", \"action\", \"reward\", \"next_state\", \"done\"] namedtuples\n",
    "      gamma: (float) The discount factor.\n",
    "    \n",
    "    \"\"\"\n",
    "    \n",
    "    # Calculate the loss\n",
    "    with tf.GradientTape() as tape:\n",
    "        loss = compute_loss(experiences, gamma, q_network, target_q_network)\n",
    "\n",
    "    # Get the gradients of the loss with respect to the weights.\n",
    "    gradients = tape.gradient(loss, q_network.trainable_variables)\n",
    "    \n",
    "    # Update the weights of the q_network.\n",
    "    optimizer.apply_gradients(zip(gradients, q_network.trainable_variables))\n",
    "\n",
    "    # update the weights of target q_network\n",
    "    utils.update_target_network(q_network, target_q_network)"
   ]
  },
  {
   "cell_type": "markdown",
   "metadata": {},
   "source": [
    "<a name=\"9\"></a>\n",
    "## 9 - Train the Agent\n",
    "\n",
    "We are now ready to train our agent to solve the Lunar Lander environment. In the cell below we will implement the algorithm in [Fig 3](#7) line by line (please note that we have included the same algorithm below for easy reference. This will prevent you from scrolling up and down the notebook):\n",
    "\n",
    "* **Line 1**: We initialize the `memory_buffer` with a capacity of $N =$ `MEMORY_SIZE`. Notice that we are using a `deque` as the data structure for our `memory_buffer`.\n",
    "\n",
    "\n",
    "* **Line 2**: We skip this line since we already initialized the `q_network` in [Exercise 1](#ex01).\n",
    "\n",
    "\n",
    "* **Line 3**: We initialize the `target_q_network` by setting its weights to be equal to those of the `q_network`.\n",
    "\n",
    "\n",
    "* **Line 4**: We start the outer loop. Notice that we have set $M =$ `num_episodes = 2000`. This number is reasonable because the agent should be able to solve the Lunar Lander environment in less than `2000` episodes using this notebook's default parameters.\n",
    "\n",
    "\n",
    "* **Line 5**: We use the `.reset()` method to reset the environment to the initial state and get the initial state.\n",
    "\n",
    "\n",
    "* **Line 6**: We start the inner loop. Notice that we have set $T =$ `max_num_timesteps = 1000`. This means that the episode will automatically terminate if the episode hasn't terminated after `1000` time steps.\n",
    "\n",
    "\n",
    "* **Line 7**: The agent observes the current `state` and chooses an `action` using an $\\epsilon$-greedy policy. Our agent starts out using a value of $\\epsilon =$ `epsilon = 1` which yields an $\\epsilon$-greedy policy that is equivalent to the equiprobable random policy. This means that at the beginning of our training, the agent is just going to take random actions regardless of the observed `state`. As training progresses we will decrease the value of $\\epsilon$ slowly towards a minimum value using a given $\\epsilon$-decay rate. We want this minimum value to be close to zero because a value of $\\epsilon = 0$ will yield an $\\epsilon$-greedy policy that is equivalent to the greedy policy. This means that towards the end of training, the agent will lean towards selecting the `action` that it believes (based on its past experiences) will maximize $Q(s,a)$. We will set the minimum $\\epsilon$ value to be `0.01` and not exactly 0 because we always want to keep a little bit of exploration during training. If you want to know how this is implemented in code we encourage you to take a look at the `utils.get_action` function in the `utils` module.\n",
    "\n",
    "\n",
    "* **Line 8**: We use the `.step()` method to take the given `action` in the environment and get the `reward` and the `next_state`. \n",
    "\n",
    "\n",
    "* **Line 9**: We store the `experience(state, action, reward, next_state, done)` tuple in our `memory_buffer`. Notice that we also store the `done` variable so that we can keep track of when an episode terminates. This allowed us to set the $y$ targets in [Exercise 2](#ex02).\n",
    "\n",
    "\n",
    "* **Line 10**: We check if the conditions are met to perform a learning update. We do this by using our custom `utils.check_update_conditions` function. This function checks if $C =$ `NUM_STEPS_FOR_UPDATE = 4` time steps have occured and if our `memory_buffer` has enough experience tuples to fill a mini-batch. For example, if the mini-batch size is `64`, then our `memory_buffer` should have more than `64` experience tuples in order to pass the latter condition. If the conditions are met, then the `utils.check_update_conditions` function will return a value of `True`, otherwise it will return a value of `False`.\n",
    "\n",
    "\n",
    "* **Lines 11 - 14**: If the `update` variable is `True` then we perform a learning update. The learning update consists of sampling a random mini-batch of experience tuples from our `memory_buffer`, setting the $y$ targets, performing gradient descent, and updating the weights of the networks. We will use the `agent_learn` function we defined in [Section 8](#8) to perform the latter 3.\n",
    "\n",
    "\n",
    "* **Line 15**: At the end of each iteration of the inner loop we set `next_state` as our new `state` so that the loop can start again from this new state. In addition, we check if the episode has reached a terminal state (i.e we check if `done = True`). If a terminal state has been reached, then we break out of the inner loop.\n",
    "\n",
    "\n",
    "* **Line 16**: At the end of each iteration of the outer loop we update the value of $\\epsilon$, and check if the environment has been solved. We consider that the environment has been solved if the agent receives an average of `200` points in the last `100` episodes. If the environment has not been solved we continue the outer loop and start a new episode.\n",
    "\n",
    "Finally, we wanted to note that we have included some extra variables to keep track of the total number of points the agent received in each episode. This will help us determine if the agent has solved the environment and it will also allow us to see how our agent performed during training. We also use the `time` module to measure how long the training takes. \n",
    "\n",
    "<br>\n",
    "<br>\n",
    "<figure>\n",
    "  <img src = \"images/deep_q_algorithm.png\" width = 90% style = \"border: thin silver solid; padding: 0px\">\n",
    "      <figcaption style = \"text-align: center; font-style: italic\">Fig 4. Deep Q-Learning with Experience Replay.</figcaption>\n",
    "</figure>\n",
    "<br>\n",
    "\n",
    "**Note:** With this notebook's default parameters, the following cell takes between 10 to 15 minutes to run. "
   ]
  },
  {
   "cell_type": "code",
   "execution_count": 46,
   "metadata": {
    "deletable": false,
    "editable": false
   },
   "outputs": [
    {
     "name": "stdout",
     "output_type": "stream",
     "text": [
      "Episode 100 | Total point average of the last 100 episodes: -151.53\n",
      "Episode 200 | Total point average of the last 100 episodes: -96.063\n",
      "Episode 300 | Total point average of the last 100 episodes: -55.85\n",
      "Episode 400 | Total point average of the last 100 episodes: -10.09\n",
      "Episode 500 | Total point average of the last 100 episodes: 102.10\n",
      "Episode 600 | Total point average of the last 100 episodes: 177.08\n",
      "Episode 615 | Total point average of the last 100 episodes: 200.19\n",
      "\n",
      "Environment solved in 615 episodes!\n",
      "\n",
      "Total Runtime: 848.33 s (14.14 min)\n"
     ]
    }
   ],
   "source": [
    "start = time.time()\n",
    "\n",
    "num_episodes = 2000\n",
    "max_num_timesteps = 1000\n",
    "\n",
    "total_point_history = []\n",
    "\n",
    "num_p_av = 100    # number of total points to use for averaging\n",
    "epsilon = 1.0     # initial ε value for ε-greedy policy\n",
    "\n",
    "# Create a memory buffer D with capacity N\n",
    "memory_buffer = deque(maxlen=MEMORY_SIZE)\n",
    "\n",
    "# Set the target network weights equal to the Q-Network weights\n",
    "target_q_network.set_weights(q_network.get_weights())\n",
    "\n",
    "for i in range(num_episodes):\n",
    "    \n",
    "    # Reset the environment to the initial state and get the initial state\n",
    "    state = env.reset()\n",
    "    total_points = 0\n",
    "    \n",
    "    for t in range(max_num_timesteps):\n",
    "        \n",
    "        # From the current state S choose an action A using an ε-greedy policy\n",
    "        state_qn = np.expand_dims(state, axis=0)  # state needs to be the right shape for the q_network\n",
    "        q_values = q_network(state_qn)\n",
    "        action = utils.get_action(q_values, epsilon)\n",
    "        \n",
    "        # Take action A and receive reward R and the next state S'\n",
    "        next_state, reward, done, _ = env.step(action)\n",
    "        \n",
    "        # Store experience tuple (S,A,R,S') in the memory buffer.\n",
    "        # We store the done variable as well for convenience.\n",
    "        memory_buffer.append(experience(state, action, reward, next_state, done))\n",
    "        \n",
    "        # Only update the network every NUM_STEPS_FOR_UPDATE time steps.\n",
    "        update = utils.check_update_conditions(t, NUM_STEPS_FOR_UPDATE, memory_buffer)\n",
    "        \n",
    "        if update:\n",
    "            # Sample random mini-batch of experience tuples (S,A,R,S') from D\n",
    "            experiences = utils.get_experiences(memory_buffer)\n",
    "            \n",
    "            # Set the y targets, perform a gradient descent step,\n",
    "            # and update the network weights.\n",
    "            agent_learn(experiences, GAMMA)\n",
    "        \n",
    "        state = next_state.copy()\n",
    "        total_points += reward\n",
    "        \n",
    "        if done:\n",
    "            break\n",
    "            \n",
    "    total_point_history.append(total_points)\n",
    "    av_latest_points = np.mean(total_point_history[-num_p_av:])\n",
    "    \n",
    "    # Update the ε value\n",
    "    epsilon = utils.get_new_eps(epsilon)\n",
    "\n",
    "    print(f\"\\rEpisode {i+1} | Total point average of the last {num_p_av} episodes: {av_latest_points:.2f}\", end=\"\")\n",
    "\n",
    "    if (i+1) % num_p_av == 0:\n",
    "        print(f\"\\rEpisode {i+1} | Total point average of the last {num_p_av} episodes: {av_latest_points:.2f}\")\n",
    "\n",
    "    # We will consider that the environment is solved if we get an\n",
    "    # average of 200 points in the last 100 episodes.\n",
    "    if av_latest_points >= 200.0:\n",
    "        print(f\"\\n\\nEnvironment solved in {i+1} episodes!\")\n",
    "        q_network.save('lunar_lander_model.h5')\n",
    "        break\n",
    "        \n",
    "tot_time = time.time() - start\n",
    "\n",
    "print(f\"\\nTotal Runtime: {tot_time:.2f} s ({(tot_time/60):.2f} min)\")"
   ]
  },
  {
   "cell_type": "markdown",
   "metadata": {},
   "source": [
    "We can plot the total point history along with the moving average to see how our agent improved during training. If you want to know about the different plotting options available in the `utils.plot_history` function we encourage you to take a look at the `utils` module."
   ]
  },
  {
   "cell_type": "code",
   "execution_count": 47,
   "metadata": {
    "deletable": false,
    "editable": false,
    "id": "E_EUXxurfe8m",
    "scrolled": false
   },
   "outputs": [
    {
     "data": {
      "image/png": "[encoded data removed]",
      "text/plain": [
       "<Figure size 720x504 with 1 Axes>"
      ]
     },
     "metadata": {},
     "output_type": "display_data"
    }
   ],
   "source": [
    "# Plot the total point history along with the moving average\n",
    "utils.plot_history(total_point_history)"
   ]
  },
  {
   "cell_type": "markdown",
   "metadata": {
    "id": "c_xwgaX5MnYt"
   },
   "source": [
    "<a name=\"10\"></a>\n",
    "## 10 - See the Trained Agent In Action\n",
    "\n",
    "Now that we have trained our agent, we can see it in action. We will use the `utils.create_video` function to create a video of our agent interacting with the environment using the trained $Q$-Network. The `utils.create_video` function uses the `imageio` library to create the video. This library produces some warnings that can be distracting, so, to suppress these warnings we run the code below."
   ]
  },
  {
   "cell_type": "code",
   "execution_count": 48,
   "metadata": {
    "deletable": false,
    "editable": false
   },
   "outputs": [],
   "source": [
    "# Suppress warnings from imageio\n",
    "import logging\n",
    "logging.getLogger().setLevel(logging.ERROR)"
   ]
  },
  {
   "cell_type": "markdown",
   "metadata": {},
   "source": [
    "In the cell below we create a video of our agent interacting with the Lunar Lander environment using the trained `q_network`. The video is saved to the `videos` folder with the given `filename`. We use the `utils.embed_mp4` function to embed the video in the Jupyter Notebook so that we can see it here directly without having to download it.\n",
    "\n",
    "We should note that since the lunar lander starts with a random initial force applied to its center of mass, every time you run the cell below you will see a different video. If the agent was trained properly, it should be able to land the lunar lander in the landing pad every time, regardless of the initial force applied to its center of mass."
   ]
  },
  {
   "cell_type": "code",
   "execution_count": 49,
   "metadata": {
    "deletable": false,
    "editable": false,
    "id": "3Ttb_zLeJKiG"
   },
   "outputs": [
    {
     "data": {
      "text/html": [
       "\n",
       "    <video width=\"840\" height=\"480\" controls>\n",
       "    <source src=\"data:video/mp4;base64,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\" type=\"video/mp4\">\n",
       "    Your browser does not support the video tag.\n",
       "    </video>"
      ],
      "text/plain": [
       "<IPython.core.display.HTML object>"
      ]
     },
     "execution_count": 49,
     "metadata": {},
     "output_type": "execute_result"
    }
   ],
   "source": [
    "filename = \"./videos/lunar_lander.mp4\"\n",
    "\n",
    "utils.create_video(filename, env, q_network)\n",
    "utils.embed_mp4(filename)"
   ]
  },
  {
   "cell_type": "markdown",
   "metadata": {},
   "source": [
    "<a name=\"11\"></a>\n",
    "## 11 - Congratulations!\n",
    "\n",
    "You have successfully used Deep Q-Learning with Experience Replay to train an agent to land a lunar lander safely on a landing pad on the surface of the moon. Congratulations!"
   ]
  },
  {
   "cell_type": "markdown",
   "metadata": {},
   "source": [
    "<a name=\"12\"></a>\n",
    "## 12 - References\n",
    "\n",
    "If you would like to learn more about Deep Q-Learning, we recommend you check out the following papers.\n",
    "\n",
    "\n",
    "* Mnih, V., Kavukcuoglu, K., Silver, D. et al. Human-level control through deep reinforcement learning. Nature 518, 529–533 (2015).\n",
    "\n",
    "\n",
    "* Lillicrap, T. P., Hunt, J. J., Pritzel, A., et al. Continuous Control with Deep Reinforcement Learning. ICLR (2016).\n",
    "\n",
    "\n",
    "* Mnih, V., Kavukcuoglu, K., Silver, D. et al. Playing Atari with Deep Reinforcement Learning. arXiv e-prints.  arXiv:1312.5602 (2013)."
   ]
  },
  {
   "cell_type": "markdown",
   "metadata": {},
   "source": [
    "<details>\n",
    "  <summary><font size=\"2\" color=\"darkgreen\"><b>Please click here if you want to experiment with any of the non-graded code.</b></font></summary>\n",
    "    <p><i><b>Important Note: Please only do this when you've already passed the assignment to avoid problems with the autograder.</b></i>\n",
    "    <ol>\n",
    "        <li> On the notebook’s menu, click “View” > “Cell Toolbar” > “Edit Metadata”</li>\n",
    "        <li> Hit the “Edit Metadata” button next to the code cell which you want to lock/unlock</li>\n",
    "        <li> Set the attribute value for “editable” to:\n",
    "            <ul>\n",
    "                <li> “true” if you want to unlock it </li>\n",
    "                <li> “false” if you want to lock it </li>\n",
    "            </ul>\n",
    "        </li>\n",
    "        <li> On the notebook’s menu, click “View” > “Cell Toolbar” > “None” </li>\n",
    "    </ol>\n",
    "    <p> Here's a short demo of how to do the steps above: \n",
    "        <br>\n",
    "        <img src=\"https://drive.google.com/uc?export=view&id=14Xy_Mb17CZVgzVAgq7NCjMVBvSae3xO1\" align=\"center\" alt=\"unlock_cells.gif\">\n",
    "</details>"
   ]
  }
 ],
 "metadata": {
  "accelerator": "GPU",
  "colab": {
   "collapsed_sections": [],
   "name": "TensorFlow - Lunar Lander.ipynb",
   "provenance": []
  },
  "kernelspec": {
   "display_name": "Python 3",
   "language": "python",
   "name": "python3"
  },
  "language_info": {
   "codemirror_mode": {
    "name": "ipython",
    "version": 3
   },
   "file_extension": ".py",
   "mimetype": "text/x-python",
   "name": "python",
   "nbconvert_exporter": "python",
   "pygments_lexer": "ipython3",
   "version": "3.7.6"
  }
 },
 "nbformat": 4,
 "nbformat_minor": 1
}
